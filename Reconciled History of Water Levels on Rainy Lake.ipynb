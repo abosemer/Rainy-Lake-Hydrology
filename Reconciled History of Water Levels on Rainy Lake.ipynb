{
 "metadata": {
  "name": "",
  "signature": "sha256:e7ff86d6d584cf8a97a79e0d36ed98cba192cd4c30ba27113e2bda4a6931d657"
 },
 "nbformat": 3,
 "nbformat_minor": 0,
 "worksheets": [
  {
   "cells": [
    {
     "cell_type": "heading",
     "level": 2,
     "metadata": {},
     "source": [
      "Read Data from Water Survey of Canada"
     ]
    },
    {
     "cell_type": "code",
     "collapsed": false,
     "input": [
      "%%capture capt\n",
      "%run -i Water_Survey_of_Canada.ipynb"
     ],
     "language": "python",
     "metadata": {},
     "outputs": [],
     "prompt_number": 4
    },
    {
     "cell_type": "code",
     "collapsed": false,
     "input": [
      "getLevelsWSC('05PB007')"
     ],
     "language": "python",
     "metadata": {},
     "outputs": [
      {
       "metadata": {},
       "output_type": "pyout",
       "prompt_number": 2,
       "text": [
        "1911-08-20    336.868\n",
        "1911-08-21    336.880\n",
        "1911-08-22    336.865\n",
        "1911-08-23    336.853\n",
        "1911-08-24    336.844\n",
        "1911-08-25    336.844\n",
        "1911-08-26    336.850\n",
        "1911-08-27    336.868\n",
        "1911-08-28    336.871\n",
        "1911-08-29    336.868\n",
        "1911-08-30    336.871\n",
        "1911-08-31    336.868\n",
        "1911-09-01    336.856\n",
        "1911-09-02    336.853\n",
        "1911-09-03    336.847\n",
        "...\n",
        "2013-12-17    337.379\n",
        "2013-12-18    337.376\n",
        "2013-12-19    337.367\n",
        "2013-12-20    337.362\n",
        "2013-12-21    337.357\n",
        "2013-12-22    337.353\n",
        "2013-12-23    337.349\n",
        "2013-12-24    337.348\n",
        "2013-12-25    337.344\n",
        "2013-12-26    337.341\n",
        "2013-12-27    337.339\n",
        "2013-12-28    337.337\n",
        "2013-12-29    337.333\n",
        "2013-12-30    337.331\n",
        "2013-12-31    337.325\n",
        "Name: RAINY LAKE NEAR FORT FRANCES (05PB007), Length: 37331"
       ]
      }
     ],
     "prompt_number": 2
    },
    {
     "cell_type": "code",
     "collapsed": false,
     "input": [],
     "language": "python",
     "metadata": {},
     "outputs": []
    }
   ],
   "metadata": {}
  }
 ]
}