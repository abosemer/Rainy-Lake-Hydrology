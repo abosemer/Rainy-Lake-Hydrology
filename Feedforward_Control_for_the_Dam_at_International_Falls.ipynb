{
 "metadata": {
  "name": "",
  "signature": "sha256:ca1b8f54fd218f8c784edd5e0582b45f152667b9cf9c4c91865e62d68b31e7a0"
 },
 "nbformat": 3,
 "nbformat_minor": 0,
 "worksheets": [
  {
   "cells": [
    {
     "cell_type": "code",
     "collapsed": false,
     "input": [],
     "language": "python",
     "metadata": {},
     "outputs": []
    }
   ],
   "metadata": {}
  }
 ]
}