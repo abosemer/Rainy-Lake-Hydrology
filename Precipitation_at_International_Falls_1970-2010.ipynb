{
 "metadata": {
  "name": "",
  "signature": "sha256:bc3836947bc8c43f82351602d95b3e8fa649a0e0754b3f5a6c940154562e3218"
 },
 "nbformat": 3,
 "nbformat_minor": 0,
 "worksheets": [
  {
   "cells": [
    {
     "cell_type": "heading",
     "level": 1,
     "metadata": {},
     "source": [
      "Precipitation at International Falls 1970-2010"
     ]
    },
    {
     "cell_type": "markdown",
     "metadata": {},
     "source": [
      "* <a href=#section01>Precipitation Data for International Falls</a>"
     ]
    },
    {
     "cell_type": "heading",
     "level": 3,
     "metadata": {},
     "source": [
      "Initialize Notebook"
     ]
    },
    {
     "cell_type": "code",
     "collapsed": false,
     "input": [
      "# Display graphics inline with the notebook\n",
      "%matplotlib inline\n",
      "\n",
      "# Standard Python modules\n",
      "import numpy as np\n",
      "import matplotlib.pyplot as plt\n",
      "import pandas as pd\n",
      "import os\n",
      "import datetime\n",
      "\n",
      "# Module to enhance matplotlib plotting\n",
      "import seaborn\n",
      "seaborn.set()"
     ],
     "language": "python",
     "metadata": {},
     "outputs": [],
     "prompt_number": 132
    },
    {
     "cell_type": "heading",
     "level": 2,
     "metadata": {},
     "source": [
      "<a name=section01></a>Precipitation Data for International Falls"
     ]
    },
    {
     "cell_type": "code",
     "collapsed": false,
     "input": [],
     "language": "python",
     "metadata": {},
     "outputs": []
    }
   ],
   "metadata": {}
  }
 ]
}