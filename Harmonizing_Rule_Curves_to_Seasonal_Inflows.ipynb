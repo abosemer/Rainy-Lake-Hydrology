{
 "metadata": {
  "name": "",
  "signature": "sha256:a28d156dd900f82fe8670f42befeda20b6f2f310df6f2dea75a234342a3377b2"
 },
 "nbformat": 3,
 "nbformat_minor": 0,
 "worksheets": []
}